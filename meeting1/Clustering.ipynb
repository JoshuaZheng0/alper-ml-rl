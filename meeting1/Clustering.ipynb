{
 "cells": [
  {
   "cell_type": "markdown",
   "metadata": {},
   "source": [
    "# What is Clustering ?\n",
    "The task of grouping data points based on their similarity with each other. (Unsupervised learning)\n",
    "\n",
    "based on a metric like Euclidean distance, Cosine similarity, Manhattan distance, etc. and then group the points with highest similarity score together.\n",
    "\n",
    "## Broadly speaking, there are 2 types of clustering that can be performed to group similar data points:\n",
    "\n",
    "### Hard Clustering: \n",
    "In this type of clustering, each data point belongs to a cluster completely or not. For example, Let’s say there are 4 data point and we have to cluster them into 2 clusters. So each data point will either belong to cluster 1 or cluster 2.\n",
    "\n",
    "### Soft Clustering: \n",
    "In this type of clustering, instead of assigning each data point into a separate cluster, a probability or likelihood of that point being that cluster is evaluated. For example, Let’s say there are 4 data point and we have to cluster them into 2 clusters. Each data point is given percentages for each cluster.\n",
    "\n",
    "## Various types of clustering algorithms:\n",
    "\n",
    "### 1. Centroid-based Clustering (Partitioning Methods)\n",
    "Centroid-based clustering groups data points based on closeness, using distance measures like Euclidean, Manhattan, or Minkowski. The number of clusters, **k**, must be predefined. K-means and K-medoids are examples. The main drawback is the need to set **k** beforehand, either intuitively or using methods like the Elbow Method.\n",
    "\n",
    "### 2. Density-based Clustering (Model-based Methods)\n",
    "Density-based clustering, like DBSCAN, forms clusters based on the density of data points. It automatically determines the number of clusters and handles irregularly shaped or overlapping clusters better than centroid-based methods. It does not require **k** to be specified and is less sensitive to initial positions.\n",
    "\n",
    "### 3. Connectivity-based Clustering (Hierarchical Clustering)\n",
    "Hierarchical clustering groups data into a tree-like structure (dendrogram). It starts with each data point as its own cluster and merges similar clusters. There are two approaches:\n",
    "- **Divisive Clustering:** Top-down, starting with one large cluster and dividing it into smaller ones.\n",
    "- **Agglomerative Clustering:** Bottom-up, starting with individual clusters and merging them into larger ones.\n",
    "\n",
    "### 4. Distribution-based Clustering\n",
    "Distribution-based clustering groups data based on probability distributions (e.g., Gaussian). Data points are assigned to clusters based on their likelihood of belonging to a distribution. The most popular algorithm is the **Gaussian Mixture Model (GMM)**. This method is more flexible and accurate but requires careful tuning of hyperparameters to avoid overfitting.\n",
    "\n",
    "\n",
    "top 10 clustering methods:\n",
    "1. **K-means Clustering**\n",
    "2. **Hierarchical Clustering**\n",
    "3. **Agglomerative Clustering**\n",
    "4. **DBSCAN (Density-Based Spatial Clustering of Applications with Noise)**\n",
    "5. **Gaussian Mixture Models (GMM)**\n",
    "6. **Spectral Clustering**\n",
    "7. **Mean Shift Clustering**\n",
    "8. **Affinity Propagation**\n",
    "9. **OPTICS (Ordering Points To Identify the Clustering Structure)**\n",
    "10. **Birch (Balanced Iterative Reducing and Clustering using Hierarchies)**"
   ]
  },
  {
   "cell_type": "markdown",
   "metadata": {},
   "source": [
    "I didn't have time to code these out in sklearn."
   ]
  },
  {
   "cell_type": "markdown",
   "metadata": {},
   "source": []
  }
 ],
 "metadata": {
  "kernelspec": {
   "display_name": ".venv",
   "language": "python",
   "name": "python3"
  },
  "language_info": {
   "codemirror_mode": {
    "name": "ipython",
    "version": 3
   },
   "file_extension": ".py",
   "mimetype": "text/x-python",
   "name": "python",
   "nbconvert_exporter": "python",
   "pygments_lexer": "ipython3",
   "version": "3.12.7"
  }
 },
 "nbformat": 4,
 "nbformat_minor": 2
}
